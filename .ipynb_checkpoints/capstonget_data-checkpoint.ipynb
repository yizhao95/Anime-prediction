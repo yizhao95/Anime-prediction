{
 "cells": [
  {
   "cell_type": "code",
   "execution_count": 1,
   "metadata": {},
   "outputs": [],
   "source": [
    "import os\n",
    "import requests\n",
    "import simplejson as json\n",
    "import pandas as pd"
   ]
  },
  {
   "cell_type": "code",
   "execution_count": 2,
   "metadata": {},
   "outputs": [],
   "source": [
    "def voice_actors(results):\n",
    "    voice_li = []\n",
    "    for i in range(min(len(json.loads(results.text)['characters']),2)):\n",
    "        if json.loads(results.text)['characters'][i]['voice_actors']!=[]:\n",
    "            voice_li.append(json.loads(results.text)['characters'][i]['voice_actors'][0]['name'])\n",
    "        else:\n",
    "            continue\n",
    "    return voice_li"
   ]
  },
  {
   "cell_type": "code",
   "execution_count": 3,
   "metadata": {},
   "outputs": [],
   "source": [
    "def get_main(results):\n",
    "    \n",
    "    genres = []\n",
    "    \n",
    "    animeinfo = results\n",
    "    anime_id = json.loads(animeinfo.text)['mal_id']\n",
    "    num_episode = json.loads(animeinfo.text)['episodes']\n",
    "    duration = json.loads(animeinfo.text)['duration'].split()[0]\n",
    "    intro = json.loads(animeinfo.text)['synopsis']\n",
    "    for i in json.loads(animeinfo.text)['genres']:\n",
    "        genres.append(i['name'])\n",
    "    score = json.loads(animeinfo.text)['score']\n",
    "    popularity = json.loads(animeinfo.text)['popularity']\n",
    "    return anime_id,num_episode,duration,intro,genres,score,popularity"
   ]
  },
  {
   "cell_type": "code",
   "execution_count": 4,
   "metadata": {},
   "outputs": [],
   "source": [
    "def get_producer(results):\n",
    "    producer = []\n",
    "    re = json.loads(results.text)['staff']\n",
    "    for i in re:\n",
    "        if 'Producer' in i['positions']:\n",
    "            producer.append(i['name'])\n",
    "        else:\n",
    "            continue\n",
    "    return producer"
   ]
  },
  {
   "cell_type": "code",
   "execution_count": 5,
   "metadata": {},
   "outputs": [],
   "source": [
    "def get_director(results):\n",
    "    director = []\n",
    "    for i in json.loads(results.text)['staff']:\n",
    "        if 'Director' in i['positions']:\n",
    "            director.append(i['name'])\n",
    "        else:\n",
    "            continue\n",
    "    return director"
   ]
  },
  {
   "cell_type": "code",
   "execution_count": 6,
   "metadata": {},
   "outputs": [],
   "source": [
    "def get_chief(results):\n",
    "    cheif_dire=[]\n",
    "    for i in json.loads(results.text)['staff']:\n",
    "        if 'Chief Animation Director' in i['positions']:\n",
    "            cheif_dire.append(i['name'])\n",
    "        else:\n",
    "            continue\n",
    "    return cheif_dire"
   ]
  },
  {
   "cell_type": "code",
   "execution_count": 7,
   "metadata": {},
   "outputs": [],
   "source": [
    "def get_script(results):\n",
    "    script=[]\n",
    "    for i in json.loads(results.text)['staff']:\n",
    "        if 'Script' in i['positions']:\n",
    "            script.append(i['name'])\n",
    "        else:\n",
    "            continue\n",
    "    return script"
   ]
  },
  {
   "cell_type": "code",
   "execution_count": 8,
   "metadata": {},
   "outputs": [],
   "source": [
    "def get_music(results):\n",
    "    music=[]\n",
    "    for i in json.loads(results.text)['staff']:\n",
    "        if 'Music' in i['positions']:\n",
    "            music.append(i['name'])\n",
    "        else:\n",
    "            continue\n",
    "    return music"
   ]
  },
  {
   "cell_type": "code",
   "execution_count": null,
   "metadata": {},
   "outputs": [],
   "source": [
    "#test cell\n",
    "results = requests.get('https://api.jikan.moe/v3/anime/1/characters_staff')\n",
    "json.loads(results.text)['staff'][0]"
   ]
  },
  {
   "cell_type": "code",
   "execution_count": null,
   "metadata": {},
   "outputs": [],
   "source": [
    "#test cell\n",
    "maldata = pd.DataFrame(columns=['anime_id','num_episode','duration','intro','genres','score','popularity','voice',\\\n",
    "                           'producer','script','cheif_dire','director','music'])"
   ]
  },
  {
   "cell_type": "code",
   "execution_count": 10,
   "metadata": {},
   "outputs": [],
   "source": [
    "#remove file if needed\n",
    "#os.remove(\"capstonefile.csv\")"
   ]
  },
  {
   "cell_type": "code",
   "execution_count": 11,
   "metadata": {},
   "outputs": [],
   "source": [
    "#create a file\n",
    "import csv\n",
    "f = open('capstonefile.csv','w')"
   ]
  },
  {
   "cell_type": "code",
   "execution_count": 12,
   "metadata": {},
   "outputs": [],
   "source": [
    "maldata = pd.DataFrame(columns=['anime_id','num_episode','duration','intro','genres','score','popularity','voice',\\\n",
    "                           'producer','script','cheif_dire','director','music'])"
   ]
  },
  {
   "cell_type": "code",
   "execution_count": 13,
   "metadata": {},
   "outputs": [],
   "source": [
    "def check_page(results):\n",
    "    if results.status_code == 404:\n",
    "        return True\n",
    "    elif results.status_code == 500:\n",
    "        return True\n",
    "    else:\n",
    "        return False"
   ]
  },
  {
   "cell_type": "code",
   "execution_count": null,
   "metadata": {},
   "outputs": [],
   "source": [
    "from time import sleep\n",
    "#request from web and get information\n",
    "for id in range(45000):\n",
    "    sleep(1)\n",
    "    results = requests.get('https://api.jikan.moe/v3/anime/'+str(id))\n",
    "    if check_page(results):\n",
    "        continue\n",
    "    elif check_page(results) == 429:\n",
    "        sleep(10)\n",
    "        results = requests.get('https://api.jikan.moe/v3/anime/'+str(id))\n",
    "        if check_page(results):\n",
    "            continue\n",
    "        anime_id,num_episode,duration,intro,genres,score,popularity= get_main(results)\n",
    "        newre=requests.get('https://api.jikan.moe/v3/anime/'+str(id)+'/characters_staff')\n",
    "        maldata.append({'anime_id':anime_id,\\\n",
    "                       'num_episode': num_episode,\\\n",
    "                       'duration':duration,\\\n",
    "                       'intro':intro,\\\n",
    "                       'genres':genres,\\\n",
    "                       'score':score,\\\n",
    "                       'popularity':popularity,\\\n",
    "        'voice': voice_actors(newre),\\\n",
    "        'producer': get_producer(newre),\\\n",
    "        'script': get_script(newre),\\\n",
    "        'cheif_dire':get_chief(newre),\\\n",
    "        'director':get_director(newre),\\\n",
    "        'music':get_music(newre)},ignore_index=True)\n",
    "        with open('capstonefile', 'a') as f:\n",
    "            maldata.to_csv('capstonefile.csv', header=False)\n",
    "    else:\n",
    "        anime_id,num_episode,duration,intro,genres,score,popularity= get_main(results)\n",
    "        newre=requests.get('https://api.jikan.moe/v3/anime/'+str(id)+'/characters_staff')\n",
    "        if check_page(newre) :\n",
    "            sleep(10)\n",
    "            newre=requests.get('https://api.jikan.moe/v3/anime/'+str(id)+'/characters_staff')\n",
    "        maldata.append({'anime_id':anime_id,\\\n",
    "                       'num_episode': num_episode,\\\n",
    "                       'duration':duration,\\\n",
    "                       'intro':intro,\\\n",
    "                       'genres':genres,\\\n",
    "                       'score':score,\\\n",
    "                       'popularity':popularity,\\\n",
    "                        'voice': voice_actors(newre),\\\n",
    "                        'producer': get_producer(newre),\\\n",
    "                        'script': get_script(newre),\\\n",
    "                        'cheif_dire':get_chief(newre),\\\n",
    "                        'director':get_director(newre),\\\n",
    "                        'music':get_music(newre)},ignore_index=True)\n",
    "        with open('capstonefile', 'a') as f:\n",
    "            maldata.to_csv('capstonefile.csv', header=False)"
   ]
  },
  {
   "cell_type": "code",
   "execution_count": 25,
   "metadata": {},
   "outputs": [
    {
     "name": "stdout",
     "output_type": "stream",
     "text": [
      "39\n"
     ]
    }
   ],
   "source": [
    "#run after the previous cell to see which id went wrong after the function broke\n",
    "print(id)"
   ]
  },
  {
   "cell_type": "code",
   "execution_count": 28,
   "metadata": {},
   "outputs": [
    {
     "data": {
      "text/plain": [
       "{'status': 500,\n",
       " 'type': 'Exception',\n",
       " 'message': 'Unhandled Exception. Please follow report_url to generate an issue on GitHub',\n",
       " 'trace': '/var/www/jikan/vendor/guzzlehttp/guzzle/src/Handler/StreamHandler.php at line 65',\n",
       " 'error': 'Error creating resource: [message] fopen(): php_network_getaddresses: getaddrinfo failed: Temporary failure in name resolution\\n[file] /var/www/jikan/vendor/guzzlehttp/guzzle/src/Handler/StreamHandler.php\\n[line] 323\\n[message] fopen(https://myanimelist.net/anime/39/): failed to open stream: php_network_getaddresses: getaddrinfo failed: Temporary failure in name resolution\\n[file] /var/www/jikan/vendor/guzzlehttp/guzzle/src/Handler/StreamHandler.php\\n[line] 323',\n",
       " 'report_url': 'https://github.com/jikan-me/jikan-rest/issues/new?title=%5BOFFICIAL%5D+Generated+Issue%3A+ConnectException&body=Please+fill+out+the+details+below.%0A%0A%2A%2ASummary%3A%2A%2A%0A%0A%2A%2ASteps+to+reproduce%3A%2A%2A%0A%0A%0A%0A+%23%23%23+Additional+Details+%0A+%2A%2AJikan+Parser+Version%2A%2A%3A+%60%60%60v2.8.2%40d7b5ecb5836f6cdd2b24aaa21c9dde1daff0f49c%60%60%60%0A%2A%2APHP%3A%2A%2A+%60%60%607.3.9-1%2Bubuntu18.04.1%2Bdeb.sury.org%2B1%60%60%60%0A%2A%2ARedis%2A%2A%3A+%60%60%60Connected%60%60%60%0A%2A%2AException%3A%2A%2A+%60%60%60GuzzleHttp%5CException%5CConnectException%60%60%60%0A%2A%2ACode%3A%2A%2A+%60%60%600%60%60%60%0A%2A%2AMessage%3A%2A%2A+%60%60%60Error+creating+resource%3A+%5Bmessage%5D+fopen%28%29%3A+php_network_getaddresses%3A+getaddrinfo+failed%3A+Temporary+failure+in+name+resolution%0A%5Bfile%5D+%2Fvar%2Fwww%2Fjikan%2Fvendor%2Fguzzlehttp%2Fguzzle%2Fsrc%2FHandler%2FStreamHandler.php%0A%5Bline%5D+323%0A%5Bmessage%5D+fopen%28https%3A%2F%2Fmyanimelist.net%2Fanime%2F39%2F%29%3A+failed+to+open+stream%3A+php_network_getaddresses%3A+getaddrinfo+failed%3A+Temporary+failure+in+name+resolution%0A%5Bfile%5D+%2Fvar%2Fwww%2Fjikan%2Fvendor%2Fguzzlehttp%2Fguzzle%2Fsrc%2FHandler%2FStreamHandler.php%0A%5Bline%5D+323%60%60%60%0A%2A%2ATrace%3A%2A%2A+%60%60%60%2Fvar%2Fwww%2Fjikan%2Fvendor%2Fguzzlehttp%2Fguzzle%2Fsrc%2FHandler%2FStreamHandler.php+on+line+65%60%60%60%0A%2A%2ARequest%3A%2A%2A+%60GET+%2Fv3%2Fanime%2F39%60%0A'}"
      ]
     },
     "execution_count": 28,
     "metadata": {},
     "output_type": "execute_result"
    }
   ],
   "source": [
    "json.loads(results.text)"
   ]
  },
  {
   "cell_type": "code",
   "execution_count": null,
   "metadata": {},
   "outputs": [],
   "source": []
  }
 ],
 "metadata": {
  "kernelspec": {
   "display_name": "Python 3",
   "language": "python",
   "name": "python3"
  },
  "language_info": {
   "codemirror_mode": {
    "name": "ipython",
    "version": 3
   },
   "file_extension": ".py",
   "mimetype": "text/x-python",
   "name": "python",
   "nbconvert_exporter": "python",
   "pygments_lexer": "ipython3",
   "version": "3.6.2"
  }
 },
 "nbformat": 4,
 "nbformat_minor": 2
}
