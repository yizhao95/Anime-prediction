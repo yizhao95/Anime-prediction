{
 "cells": [
  {
   "cell_type": "markdown",
   "metadata": {},
   "source": [
    "This notebook is used for implementing the predictive model of the score of an upcoming Japanese Anime by its staff member.\n",
    "\n",
    "The data is obtained through web scraping and API from MyAnimeList(MyAnimeList is the biggest Japanese Anime Dataset), I train the data with MLP method and the model perfomes well in predicting the socre of existing Anime\n",
    "\n",
    "In this notebook, you will need to input the MALID of the staff member and the genre of the Anime to predict.\n",
    "\n",
    "Notice: Airing time of Anime is set to be 2020\n"
   ]
  },
  {
   "cell_type": "markdown",
   "metadata": {},
   "source": [
    "In the first part, we introduce the pipeline I set up for fitting model, which tells you what feature(position) we need to predict an anime's score. The following pre-saved file is needed for the model to run properly\n",
    "\n",
    "voice_idlist.pkl\n",
    "\n",
    "scriptidlist.pkl\n",
    "\n",
    "produceridlist.pkl\n",
    "\n",
    "chiefidlist.pkl\n",
    "\n",
    "directoridlist.pkl\n",
    "\n",
    "genreslist.pkl\n",
    "\n",
    "musicidlist.pkl\n",
    "\n",
    "finalized_modelscore.sav"
   ]
  },
  {
   "cell_type": "code",
   "execution_count": 2,
   "metadata": {},
   "outputs": [],
   "source": [
    "#get numerical column,which is simpler\n",
    "import numpy as np\n",
    "from sklearn import base\n",
    "class get_column(base.BaseEstimator, base.RegressorMixin):\n",
    "    def __init__(self, col):\n",
    "        self = self\n",
    "        self.col = col\n",
    "        \n",
    "        \n",
    "    def fit(self,X,y):\n",
    "        return self\n",
    "    \n",
    "    \n",
    "    def transform(self,X):\n",
    "\n",
    "        return [[int(x)] for x in X[self.col].tolist()]"
   ]
  },
  {
   "cell_type": "code",
   "execution_count": 3,
   "metadata": {},
   "outputs": [],
   "source": [
    "class one_hot(base.BaseEstimator, base.RegressorMixin):\n",
    "    def __init__(self,col):\n",
    "        self.col = col\n",
    "    \n",
    "    def fit(self,X,y):\n",
    "        return self\n",
    "    \n",
    "    def transform(self,X):\n",
    "        x = X[self.col].tolist()\n",
    "        personse = dill.load(open('{}list.pkl'.format(self.col),'rb'))\n",
    "        for i in range(len(x)):\n",
    "            listofzeros = [0] * len(personse)\n",
    "            for person in x[i]:\n",
    "                listofzeros[personse.index(person)]=1\n",
    "            x[i] = listofzeros\n",
    "        return [person for person in x]"
   ]
  },
  {
   "cell_type": "code",
   "execution_count": 4,
   "metadata": {},
   "outputs": [],
   "source": [
    "class one_hot_genre(base.BaseEstimator, base.RegressorMixin):\n",
    "    def __init__(self,col):\n",
    "        self.col = col\n",
    "    \n",
    "    def fit(self,X,y):\n",
    "        return self\n",
    "    \n",
    "    def transform(self,X):\n",
    "        x = X[self.col].tolist()\n",
    "        genrese = dill.load(open('genreslist.pkl','rb'))\n",
    "        for i in range(len(x)):\n",
    "            listofzeros = [0] * len(genrese)\n",
    "            for genre in x[i]:\n",
    "                listofzeros[genrese.index(genre)]=1\n",
    "            x[i] = listofzeros\n",
    "        return [genre for genre in x]"
   ]
  },
  {
   "cell_type": "code",
   "execution_count": 5,
   "metadata": {},
   "outputs": [],
   "source": [
    "from sklearn.pipeline import FeatureUnion\n",
    "#get all the feature from dataset\n",
    "union = FeatureUnion([\n",
    "            ('producer', one_hot('producerid')),\n",
    "            ('director', one_hot('directorid')),\n",
    "            ('cheif', one_hot('chiefid')),\n",
    "            ('script', one_hot('scriptid')),\n",
    "            ('music',one_hot('musicid')),\n",
    "            ('voice',one_hot('voice_id')),\n",
    "            ('num_epi',get_column('num_episode')),\n",
    "            ('duration',get_column('duration')),\n",
    "            ('genre',one_hot_genre('genres')),\n",
    "            ('time',get_column('time'))\n",
    "\n",
    "            ])"
   ]
  },
  {
   "cell_type": "code",
   "execution_count": 18,
   "metadata": {},
   "outputs": [],
   "source": [
    "import pickle\n",
    "import dill\n",
    "filename = 'finalized_modelscore.sav'\n",
    "mymodel = pickle.load(open(filename, 'rb'))"
   ]
  },
  {
   "cell_type": "markdown",
   "metadata": {},
   "source": [
    "For prediction of score of an upcoming anime: we need to input in the following format\n",
    "Feature illustration:\n",
    "\n",
    "producerid: MAL ID for producer.\n",
    "\n",
    "directorid: MAL ID for Director.\n",
    "\n",
    "chiefid: MAL ID for chief director, this could be empty for many anime don't have this position.\n",
    "\n",
    "scriptid: MAL ID for scripter.\n",
    "\n",
    "musicid: MAL ID for the musician of the anime.\n",
    "\n",
    "voice_id: MAL ID for voice actor, usually top two for main character.\n",
    "\n",
    "num_episode: number of episode of the anime, vary in the list of 12, 26 or 100(which means the anime has greater than 100 episodes, it is a long term project).\n",
    "\n",
    "duration: duration of one episode, vary in the list of 3,12,24. Usually 24, for some special kind of anime it could be 3 or 12.\n",
    "\n",
    "genre: main topic of the anime, should be in the list of genreslist.pkl.\n",
    "\n",
    "time: set to be 2020 for prediction.\n"
   ]
  },
  {
   "cell_type": "code",
   "execution_count": 31,
   "metadata": {},
   "outputs": [],
   "source": [
    "#input the staff members in the dictionary\n",
    "#example\n",
    "testingdict = {'producerid':[[40009, 6519]], 'directorid':[[10285]], 'chiefid':[[19964]], 'scriptid':[[11686]], \n",
    "             'musicid':[[7401]], 'voice_id':[[870, 6792]], 'num_episode': 24, 'duration':26, 'genres': [[\"'Romance'\", \"'Action'\"]],\n",
    "             'time':2020}"
   ]
  },
  {
   "cell_type": "markdown",
   "metadata": {},
   "source": [
    "Use the model to predict:"
   ]
  },
  {
   "cell_type": "code",
   "execution_count": 32,
   "metadata": {},
   "outputs": [],
   "source": [
    "import pandas as pd\n",
    "df = pd.DataFrame.from_dict(testingdict)"
   ]
  },
  {
   "cell_type": "code",
   "execution_count": 37,
   "metadata": {},
   "outputs": [
    {
     "name": "stdout",
     "output_type": "stream",
     "text": [
      "Dear User, the Anime you wanted to predict is going to get 6.545604671147309 on MalAnimeList, way to go!\n"
     ]
    }
   ],
   "source": [
    "finalsocre = mymodel.predict(df)[0]\n",
    "print('Dear User, the Anime you wanted to predict is going to get ' + str(finalsocre) +' on MalAnimeList, way to go!')"
   ]
  },
  {
   "cell_type": "code",
   "execution_count": null,
   "metadata": {},
   "outputs": [],
   "source": []
  }
 ],
 "metadata": {
  "kernelspec": {
   "display_name": "Python 3",
   "language": "python",
   "name": "python3"
  },
  "language_info": {
   "codemirror_mode": {
    "name": "ipython",
    "version": 3
   },
   "file_extension": ".py",
   "mimetype": "text/x-python",
   "name": "python",
   "nbconvert_exporter": "python",
   "pygments_lexer": "ipython3",
   "version": "3.6.2"
  }
 },
 "nbformat": 4,
 "nbformat_minor": 2
}
